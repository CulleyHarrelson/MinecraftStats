{
 "cells": [
  {
   "cell_type": "markdown",
   "id": "f006bcdc-e3b6-45cb-8af0-9911f526bb87",
   "metadata": {},
   "source": [
    "# Minecraft Stats\n",
    "\n",
    "This notebook summarize minecraft stats files across all worlds saved on the local machine. PathLib is used - configure pathlib to work with your operating system.\n",
    "\n",
    "The first code cell (immediately below) builds the "
   ]
  },
  {
   "cell_type": "code",
   "execution_count": 87,
   "id": "1ecfcd63-d10d-42d7-8736-3da1cf152969",
   "metadata": {
    "tags": []
   },
   "outputs": [
    {
     "name": "stdout",
     "output_type": "stream",
     "text": [
      "Key Error:   file:///Users/culley/Library/Application%20Support/minecraft/saves/Nell%27s%20World/stats/cbe07d0e-9005-4de5-8809-05c52ae494ef.json\n",
      "Key Error:   file:///Users/culley/Library/Application%20Support/minecraft/saves/Nell%27s%20World/stats/9b1b448b-b6f4-4fb4-8920-9ddce220459c.json\n",
      "Value Error:   file:///Users/culley/Library/Application%20Support/minecraft/saves/the%20big%20one/stats/cbe07d0e-9005-4de5-8809-05c52ae494ef.json\n",
      "Value Error:   file:///Users/culley/Library/Application%20Support/minecraft/saves/the%20big%20one/stats/acdedf37-063b-4eb9-ba39-79cee56ac764.json\n",
      "Value Error:   file:///Users/culley/Library/Application%20Support/minecraft/saves/The%20Field/stats/cbe07d0e-9005-4de5-8809-05c52ae494ef.json\n",
      "Key Error:   file:///Users/culley/Library/Application%20Support/minecraft/saves/New%20World--/stats/acdedf37-063b-4eb9-ba39-79cee56ac764.json\n",
      "Key Error:   file:///Users/culley/Library/Application%20Support/minecraft/saves/New%20World--/stats/9b1b448b-b6f4-4fb4-8920-9ddce220459c.json\n",
      "Key Error:   file:///Users/culley/Library/Application%20Support/minecraft/saves/HUCK%27S%20WORLD/stats/9b1b448b-b6f4-4fb4-8920-9ddce220459c.json\n",
      "Key Error:   file:///Users/culley/Library/Application%20Support/minecraft/saves/redstone/stats/916489ef-fa3d-439e-aaf2-bc7f69f608b5.json\n",
      "Key Error:   file:///Users/culley/Library/Application%20Support/minecraft/saves/New%20World/stats/cbe07d0e-9005-4de5-8809-05c52ae494ef.json\n",
      "Key Error:   file:///Users/culley/Library/Application%20Support/minecraft/saves/New%20World/stats/916489ef-fa3d-439e-aaf2-bc7f69f608b5.json\n",
      "Key Error:   file:///Users/culley/Library/Application%20Support/minecraft/saves/New%20World/stats/9b1b448b-b6f4-4fb4-8920-9ddce220459c.json\n",
      "Key Error:   file:///Users/culley/Library/Application%20Support/minecraft/saves/Paradigm/stats/acdedf37-063b-4eb9-ba39-79cee56ac764.json\n",
      "Key Error:   file:///Users/culley/Library/Application%20Support/minecraft/saves/Paradigm/stats/916489ef-fa3d-439e-aaf2-bc7f69f608b5.json\n",
      "Key Error:   file:///Users/culley/Library/Application%20Support/minecraft/saves/Paradigm/stats/f373e2f6-0ed6-3145-90f1-0b6540348669.json\n",
      "Value Error:   file:///Users/culley/Library/Application%20Support/minecraft/saves/gftgtdrdgtyfukhjgyrtrsethgfjhydr/stats/916489ef-fa3d-439e-aaf2-bc7f69f608b5.json\n",
      "Value Error:   file:///Users/culley/Library/Application%20Support/minecraft/saves/gftgtdrdgtyfukhjgyrtrsethgfjhydr/stats/9b1b448b-b6f4-4fb4-8920-9ddce220459c.json\n"
     ]
    }
   ],
   "source": [
    "import pandas as pd\n",
    "import re\n",
    "from pathlib import Path\n",
    "\n",
    "local_user = 'culley'\n",
    "# OSX path\n",
    "path = Path('/Users/{user}/Library/Application Support/minecraft/saves/'.format(user=local_user))\n",
    "files = list(path.rglob(\"*/stats/*.json\"))\n",
    "\n",
    "\n",
    "def minecraft_key(key_name):\n",
    "    return 'minecraft:{key}'.format(key=key_name)\n",
    "\n",
    "def merge_data_frames(df, df2, df_name):\n",
    "    return pd.merge(\n",
    "        df,\n",
    "        pd.DataFrame({'minecraft_key':df2.keys(), df_name: df2.values()}),\n",
    "        how=\"left\",\n",
    "        left_on=\"minecraft_key\",\n",
    "        right_on=\"minecraft_key\"\n",
    "    )\n",
    "\n",
    "def world_stats(path):\n",
    "    df = pd.read_json(path)\n",
    "    stats = df['stats']\n",
    "    try:\n",
    "        broken = stats[minecraft_key('broken')]\n",
    "    except KeyError:\n",
    "        broken = {}\n",
    "    try:\n",
    "        crafted = stats[minecraft_key('crafted')]\n",
    "    except KeyError:\n",
    "        crafted = {}\n",
    "    try:\n",
    "        custom = stats[minecraft_key('custom')]\n",
    "    except KeyError:\n",
    "        custom = {}       \n",
    "    try:\n",
    "        dropped = stats[minecraft_key('dropped')]\n",
    "    except KeyError:\n",
    "        dropped = {}\n",
    "    try:\n",
    "        killed = stats[minecraft_key('killed')]\n",
    "    except KeyError:\n",
    "        killed = {}\n",
    "    try:\n",
    "        mined = stats[minecraft_key('mined')]\n",
    "    except KeyError:\n",
    "        mined = {}           \n",
    "    try:\n",
    "        picked_up = stats[minecraft_key('picked_up')]\n",
    "    except KeyError:\n",
    "        picked_up = {}\n",
    "    try:\n",
    "        used = stats[minecraft_key('used')]\n",
    "    except KeyError:\n",
    "        used = {}     \n",
    "        \n",
    "    df = pd.DataFrame()\n",
    "    # create unique list of keys from all dictionaries\n",
    "    df['minecraft_key'] = list(set(broken.keys()) | \n",
    "                          set(crafted.keys()) | \n",
    "                          set(custom.keys()) | \n",
    "                          set(dropped.keys()) | \n",
    "                          set(killed.keys()) | \n",
    "                          set(mined.keys()) | \n",
    "                          set(picked_up.keys()) | \n",
    "                          set(used.keys()))\n",
    "    df = merge_data_frames(df, broken, 'broken')\n",
    "    df = merge_data_frames(df, crafted, 'crafted')\n",
    "    df = merge_data_frames(df, custom, 'custom')\n",
    "    df = merge_data_frames(df, dropped, 'dropped')\n",
    "    df = merge_data_frames(df, killed, 'killed')\n",
    "    df = merge_data_frames(df, mined, 'mined')\n",
    "    df = merge_data_frames(df, picked_up, 'picked_up')\n",
    "    df = merge_data_frames(df, used, 'used')\n",
    "    # remove minecraft: prefix\n",
    "    df['minecraft_key'] =  [re.sub(r'minecraft:','', str(x)) for x in df['minecraft_key']]\n",
    "    df['world_name'] = path.parts[7]\n",
    "    df['wood_type'] = df['minecraft_key'].str.extract(r'(dark_oak|birch|oak|acacia|spruce|jungle|mangrove)')\n",
    "    #df.set_index('minecraft_key')\n",
    "    df = df.fillna(0)\n",
    "    df = df.astype({'broken': 'int','broken': 'int','crafted': 'int','custom': 'int','dropped': 'int','killed': 'int','mined': 'int','picked_up': 'int','used': 'int'})\n",
    "    return df\n",
    "\n",
    "df = pd.DataFrame()\n",
    "for file_name in files:\n",
    "    try:\n",
    "        df = pd.concat([df, world_stats(file_name)])\n",
    "    except ValueError:\n",
    "        print('Value Error:  ', file_name.as_uri())\n",
    "    except KeyError:\n",
    "        print('Key Error:  ', file_name.as_uri())\n",
    "\n"
   ]
  },
  {
   "cell_type": "code",
   "execution_count": 107,
   "id": "9272ee88-2d35-43b0-a6b1-327b3b87a8c8",
   "metadata": {
    "tags": []
   },
   "outputs": [
    {
     "data": {},
     "metadata": {},
     "output_type": "display_data"
    },
    {
     "data": {
      "application/vnd.holoviews_exec.v0+json": "",
      "text/html": [
       "<div id='3710'>\n",
       "  <div class=\"bk-root\" id=\"b419ae32-3268-4a36-9789-077bbc205cd4\" data-root-id=\"3710\"></div>\n",
       "</div>\n",
       "<script type=\"application/javascript\">(function(root) {\n",
       "  function embed_document(root) {\n",
       "    var docs_json = {\"d2c5f1a9-c2b5-420e-a2f5-f9f0917ff36f\":{\"defs\":[{\"extends\":null,\"module\":null,\"name\":\"ReactiveHTML1\",\"overrides\":[],\"properties\":[]},{\"extends\":null,\"module\":null,\"name\":\"FlexBox1\",\"overrides\":[],\"properties\":[{\"default\":\"flex-start\",\"kind\":null,\"name\":\"align_content\"},{\"default\":\"flex-start\",\"kind\":null,\"name\":\"align_items\"},{\"default\":\"row\",\"kind\":null,\"name\":\"flex_direction\"},{\"default\":\"wrap\",\"kind\":null,\"name\":\"flex_wrap\"},{\"default\":\"flex-start\",\"kind\":null,\"name\":\"justify_content\"}]},{\"extends\":null,\"module\":null,\"name\":\"GridStack1\",\"overrides\":[],\"properties\":[{\"default\":\"warn\",\"kind\":null,\"name\":\"mode\"},{\"default\":null,\"kind\":null,\"name\":\"ncols\"},{\"default\":null,\"kind\":null,\"name\":\"nrows\"},{\"default\":true,\"kind\":null,\"name\":\"allow_resize\"},{\"default\":true,\"kind\":null,\"name\":\"allow_drag\"},{\"default\":[],\"kind\":null,\"name\":\"state\"}]},{\"extends\":null,\"module\":null,\"name\":\"click1\",\"overrides\":[],\"properties\":[{\"default\":\"\",\"kind\":null,\"name\":\"terminal_output\"},{\"default\":\"\",\"kind\":null,\"name\":\"debug_name\"},{\"default\":0,\"kind\":null,\"name\":\"clears\"}]},{\"extends\":null,\"module\":null,\"name\":\"NotificationAreaBase1\",\"overrides\":[],\"properties\":[{\"default\":\"bottom-right\",\"kind\":null,\"name\":\"position\"},{\"default\":0,\"kind\":null,\"name\":\"_clear\"}]},{\"extends\":null,\"module\":null,\"name\":\"NotificationArea1\",\"overrides\":[],\"properties\":[{\"default\":[],\"kind\":null,\"name\":\"notifications\"},{\"default\":\"bottom-right\",\"kind\":null,\"name\":\"position\"},{\"default\":0,\"kind\":null,\"name\":\"_clear\"},{\"default\":[{\"background\":\"#ffc107\",\"icon\":{\"className\":\"fas fa-exclamation-triangle\",\"color\":\"white\",\"tagName\":\"i\"},\"type\":\"warning\"},{\"background\":\"#007bff\",\"icon\":{\"className\":\"fas fa-info-circle\",\"color\":\"white\",\"tagName\":\"i\"},\"type\":\"info\"}],\"kind\":null,\"name\":\"types\"}]},{\"extends\":null,\"module\":null,\"name\":\"Notification\",\"overrides\":[],\"properties\":[{\"default\":null,\"kind\":null,\"name\":\"background\"},{\"default\":3000,\"kind\":null,\"name\":\"duration\"},{\"default\":null,\"kind\":null,\"name\":\"icon\"},{\"default\":\"\",\"kind\":null,\"name\":\"message\"},{\"default\":null,\"kind\":null,\"name\":\"notification_type\"},{\"default\":false,\"kind\":null,\"name\":\"_destroyed\"}]},{\"extends\":null,\"module\":null,\"name\":\"TemplateActions1\",\"overrides\":[],\"properties\":[{\"default\":0,\"kind\":null,\"name\":\"open_modal\"},{\"default\":0,\"kind\":null,\"name\":\"close_modal\"}]},{\"extends\":null,\"module\":null,\"name\":\"MaterialTemplateActions1\",\"overrides\":[],\"properties\":[{\"default\":0,\"kind\":null,\"name\":\"open_modal\"},{\"default\":0,\"kind\":null,\"name\":\"close_modal\"}]}],\"roots\":{\"references\":[{\"attributes\":{\"axis\":{\"id\":\"3726\"},\"coordinates\":null,\"dimension\":1,\"grid_line_color\":null,\"group\":null,\"ticker\":null},\"id\":\"3729\",\"type\":\"Grid\"},{\"attributes\":{\"factors\":[[\"acacia\",\"crafted\"],[\"acacia\",\"mined\"],[\"acacia\",\"picked_up\"],[\"acacia\",\"used\"],[\"birch\",\"crafted\"],[\"birch\",\"mined\"],[\"birch\",\"picked_up\"],[\"birch\",\"used\"],[\"dark_oak\",\"crafted\"],[\"dark_oak\",\"mined\"],[\"dark_oak\",\"picked_up\"],[\"dark_oak\",\"used\"],[\"jungle\",\"crafted\"],[\"jungle\",\"mined\"],[\"jungle\",\"picked_up\"],[\"jungle\",\"used\"],[\"mangrove\",\"crafted\"],[\"mangrove\",\"mined\"],[\"mangrove\",\"picked_up\"],[\"mangrove\",\"used\"],[\"oak\",\"crafted\"],[\"oak\",\"mined\"],[\"oak\",\"picked_up\"],[\"oak\",\"used\"],[\"spruce\",\"crafted\"],[\"spruce\",\"mined\"],[\"spruce\",\"picked_up\"],[\"spruce\",\"used\"]],\"tags\":[[[\"id\",\"id\",null],[\"variable\",\"variable\",null]]]},\"id\":\"3711\",\"type\":\"FactorRange\"},{\"attributes\":{\"fill_alpha\":{\"value\":0.2},\"fill_color\":{\"field\":\"variable\",\"transform\":{\"id\":\"3743\"}},\"hatch_alpha\":{\"value\":0.2},\"hatch_color\":{\"field\":\"variable\",\"transform\":{\"id\":\"3743\"}},\"line_alpha\":{\"value\":0.2},\"top\":{\"field\":\"value\"},\"width\":{\"value\":0.8},\"x\":{\"field\":\"xoffsets\"}},\"id\":\"3749\",\"type\":\"VBar\"},{\"attributes\":{},\"id\":\"3730\",\"type\":\"SaveTool\"},{\"attributes\":{},\"id\":\"3770\",\"type\":\"UnionRenderers\"},{\"attributes\":{\"bottom\":{\"value\":0},\"fill_alpha\":{\"value\":1.0},\"fill_color\":{\"field\":\"variable\",\"transform\":{\"id\":\"3743\"}},\"hatch_alpha\":{\"value\":1.0},\"hatch_color\":{\"field\":\"variable\",\"transform\":{\"id\":\"3743\"}},\"hatch_scale\":{\"value\":12.0},\"hatch_weight\":{\"value\":1.0},\"line_alpha\":{\"value\":1.0},\"line_cap\":{\"value\":\"butt\"},\"line_color\":{\"value\":\"black\"},\"line_dash\":{\"value\":[]},\"line_dash_offset\":{\"value\":0},\"line_join\":{\"value\":\"bevel\"},\"line_width\":{\"value\":1},\"top\":{\"field\":\"value\"},\"width\":{\"value\":0.8},\"x\":{\"field\":\"xoffsets\"}},\"id\":\"3752\",\"type\":\"VBar\"},{\"attributes\":{\"overlay\":{\"id\":\"3735\"}},\"id\":\"3733\",\"type\":\"BoxZoomTool\"},{\"attributes\":{},\"id\":\"3734\",\"type\":\"ResetTool\"},{\"attributes\":{\"bottom_units\":\"screen\",\"coordinates\":null,\"fill_alpha\":0.5,\"fill_color\":\"lightgrey\",\"group\":null,\"left_units\":\"screen\",\"level\":\"overlay\",\"line_alpha\":1.0,\"line_color\":\"black\",\"line_dash\":[4,4],\"line_width\":2,\"right_units\":\"screen\",\"syncable\":false,\"top_units\":\"screen\"},\"id\":\"3735\",\"type\":\"BoxAnnotation\"},{\"attributes\":{\"source\":{\"id\":\"3744\"}},\"id\":\"3751\",\"type\":\"CDSView\"},{\"attributes\":{\"fill_alpha\":{\"value\":0.1},\"fill_color\":{\"field\":\"variable\",\"transform\":{\"id\":\"3743\"}},\"hatch_alpha\":{\"value\":0.1},\"hatch_color\":{\"field\":\"variable\",\"transform\":{\"id\":\"3743\"}},\"line_alpha\":{\"value\":0.1},\"top\":{\"field\":\"value\"},\"width\":{\"value\":0.8},\"x\":{\"field\":\"xoffsets\"}},\"id\":\"3748\",\"type\":\"VBar\"},{\"attributes\":{\"data\":{\"id\":[\"acacia\",\"birch\",\"dark_oak\",\"jungle\",\"mangrove\",\"oak\",\"spruce\",\"acacia\",\"birch\",\"dark_oak\",\"jungle\",\"mangrove\",\"oak\",\"spruce\",\"acacia\",\"birch\",\"dark_oak\",\"jungle\",\"mangrove\",\"oak\",\"spruce\",\"acacia\",\"birch\",\"dark_oak\",\"jungle\",\"mangrove\",\"oak\",\"spruce\"],\"value\":[1767,8938,4612,9989,823,65309,28110,1195,4225,2102,4186,3005,46834,13205,1139,3856,1942,3775,1414,29947,10530,655,1726,1054,1578,587,15404,4953],\"variable\":[\"crafted\",\"crafted\",\"crafted\",\"crafted\",\"crafted\",\"crafted\",\"crafted\",\"mined\",\"mined\",\"mined\",\"mined\",\"mined\",\"mined\",\"mined\",\"picked_up\",\"picked_up\",\"picked_up\",\"picked_up\",\"picked_up\",\"picked_up\",\"picked_up\",\"used\",\"used\",\"used\",\"used\",\"used\",\"used\",\"used\"],\"xoffsets\":[[\"acacia\",\"crafted\"],[\"birch\",\"crafted\"],[\"dark_oak\",\"crafted\"],[\"jungle\",\"crafted\"],[\"mangrove\",\"crafted\"],[\"oak\",\"crafted\"],[\"spruce\",\"crafted\"],[\"acacia\",\"mined\"],[\"birch\",\"mined\"],[\"dark_oak\",\"mined\"],[\"jungle\",\"mined\"],[\"mangrove\",\"mined\"],[\"oak\",\"mined\"],[\"spruce\",\"mined\"],[\"acacia\",\"picked_up\"],[\"birch\",\"picked_up\"],[\"dark_oak\",\"picked_up\"],[\"jungle\",\"picked_up\"],[\"mangrove\",\"picked_up\"],[\"oak\",\"picked_up\"],[\"spruce\",\"picked_up\"],[\"acacia\",\"used\"],[\"birch\",\"used\"],[\"dark_oak\",\"used\"],[\"jungle\",\"used\"],[\"mangrove\",\"used\"],[\"oak\",\"used\"],[\"spruce\",\"used\"]]},\"selected\":{\"id\":\"3745\"},\"selection_policy\":{\"id\":\"3770\"}},\"id\":\"3744\",\"type\":\"ColumnDataSource\"},{\"attributes\":{\"coordinates\":null,\"data_source\":{\"id\":\"3744\"},\"glyph\":{\"id\":\"3747\"},\"group\":null,\"hover_glyph\":null,\"muted_glyph\":{\"id\":\"3749\"},\"nonselection_glyph\":{\"id\":\"3748\"},\"selection_glyph\":{\"id\":\"3752\"},\"view\":{\"id\":\"3751\"}},\"id\":\"3750\",\"type\":\"GlyphRenderer\"},{\"attributes\":{},\"id\":\"3745\",\"type\":\"Selection\"},{\"attributes\":{},\"id\":\"3754\",\"type\":\"CategoricalTickFormatter\"},{\"attributes\":{},\"id\":\"3719\",\"type\":\"CategoricalScale\"},{\"attributes\":{\"callback\":null,\"renderers\":[{\"id\":\"3750\"}],\"tags\":[\"hv_created\"],\"tooltips\":[[\"id\",\"@{id}\"],[\"variable\",\"@{variable}\"],[\"value\",\"@{value}\"]]},\"id\":\"3713\",\"type\":\"HoverTool\"},{\"attributes\":{},\"id\":\"3758\",\"type\":\"AllLabels\"},{\"attributes\":{},\"id\":\"3755\",\"type\":\"AllLabels\"},{\"attributes\":{\"below\":[{\"id\":\"3723\"}],\"center\":[{\"id\":\"3725\"},{\"id\":\"3729\"}],\"height\":500,\"left\":[{\"id\":\"3726\"}],\"margin\":[5,5,5,5],\"min_border_bottom\":10,\"min_border_left\":10,\"min_border_right\":10,\"min_border_top\":10,\"renderers\":[{\"id\":\"3750\"}],\"sizing_mode\":\"fixed\",\"title\":{\"id\":\"3715\"},\"toolbar\":{\"id\":\"3736\"},\"width\":1000,\"x_range\":{\"id\":\"3711\"},\"x_scale\":{\"id\":\"3719\"},\"y_range\":{\"id\":\"3712\"},\"y_scale\":{\"id\":\"3721\"}},\"id\":\"3714\",\"subtype\":\"Figure\",\"type\":\"Plot\"},{\"attributes\":{\"end\":71781.2,\"reset_end\":71781.2,\"reset_start\":0.0,\"tags\":[[[\"value\",\"value\",null]]]},\"id\":\"3712\",\"type\":\"Range1d\"},{\"attributes\":{\"factors\":[\"crafted\",\"mined\",\"picked_up\",\"used\"],\"palette\":[\"#30a2da\",\"#fc4f30\",\"#e5ae38\",\"#6d904f\"]},\"id\":\"3743\",\"type\":\"CategoricalColorMapper\"},{\"attributes\":{\"fill_color\":{\"field\":\"variable\",\"transform\":{\"id\":\"3743\"}},\"hatch_color\":{\"field\":\"variable\",\"transform\":{\"id\":\"3743\"}},\"top\":{\"field\":\"value\"},\"width\":{\"value\":0.8},\"x\":{\"field\":\"xoffsets\"}},\"id\":\"3747\",\"type\":\"VBar\"},{\"attributes\":{},\"id\":\"3757\",\"type\":\"BasicTickFormatter\"},{\"attributes\":{\"axis_label\":\"Wood Type Statistics\",\"coordinates\":null,\"formatter\":{\"id\":\"3754\"},\"group\":null,\"major_label_orientation\":1.0471975511965976,\"major_label_policy\":{\"id\":\"3755\"},\"ticker\":{\"id\":\"3724\"}},\"id\":\"3723\",\"type\":\"CategoricalAxis\"},{\"attributes\":{},\"id\":\"3724\",\"type\":\"CategoricalTicker\"},{\"attributes\":{\"coordinates\":null,\"group\":null,\"text\":\"Wood Type Summary Statistics for all Saved Worlds\",\"text_color\":\"black\",\"text_font_size\":\"12pt\"},\"id\":\"3715\",\"type\":\"Title\"},{\"attributes\":{\"active_drag\":{\"id\":\"3731\"},\"active_scroll\":{\"id\":\"3732\"},\"tools\":[{\"id\":\"3713\"},{\"id\":\"3730\"},{\"id\":\"3731\"},{\"id\":\"3732\"},{\"id\":\"3733\"},{\"id\":\"3734\"}]},\"id\":\"3736\",\"type\":\"Toolbar\"},{\"attributes\":{\"children\":[{\"id\":\"3714\"}],\"height\":500,\"margin\":[0,0,0,0],\"name\":\"Row05790\",\"sizing_mode\":\"fixed\",\"tags\":[\"embedded\"],\"width\":1000},\"id\":\"3710\",\"type\":\"Row\"},{\"attributes\":{},\"id\":\"3721\",\"type\":\"LinearScale\"},{\"attributes\":{},\"id\":\"3731\",\"type\":\"PanTool\"},{\"attributes\":{},\"id\":\"3727\",\"type\":\"BasicTicker\"},{\"attributes\":{\"axis\":{\"id\":\"3723\"},\"coordinates\":null,\"grid_line_color\":null,\"group\":null,\"ticker\":null},\"id\":\"3725\",\"type\":\"Grid\"},{\"attributes\":{},\"id\":\"3732\",\"type\":\"WheelZoomTool\"},{\"attributes\":{\"axis_label\":\"Total\",\"coordinates\":null,\"formatter\":{\"id\":\"3757\"},\"group\":null,\"major_label_policy\":{\"id\":\"3758\"},\"ticker\":{\"id\":\"3727\"}},\"id\":\"3726\",\"type\":\"LinearAxis\"}],\"root_ids\":[\"3710\"]},\"title\":\"Bokeh Application\",\"version\":\"2.4.3\"}};\n",
       "    var render_items = [{\"docid\":\"d2c5f1a9-c2b5-420e-a2f5-f9f0917ff36f\",\"root_ids\":[\"3710\"],\"roots\":{\"3710\":\"b419ae32-3268-4a36-9789-077bbc205cd4\"}}];\n",
       "    root.Bokeh.embed.embed_items_notebook(docs_json, render_items);\n",
       "    for (const render_item of render_items) {\n",
       "      for (const root_id of render_item.root_ids) {\n",
       "\tconst id_el = document.getElementById(root_id)\n",
       "\tif (id_el.children.length && (id_el.children[0].className === 'bk-root')) {\n",
       "\t  const root_el = id_el.children[0]\n",
       "\t  root_el.id = root_el.id + '-rendered'\n",
       "\t}\n",
       "      }\n",
       "    }\n",
       "  }\n",
       "  if (root.Bokeh !== undefined && root.Bokeh.Panel !== undefined) {\n",
       "    embed_document(root);\n",
       "  } else {\n",
       "    var attempts = 0;\n",
       "    var timer = setInterval(function(root) {\n",
       "      if (root.Bokeh !== undefined && root.Bokeh.Panel !== undefined) {\n",
       "        clearInterval(timer);\n",
       "        embed_document(root);\n",
       "      } else if (document.readyState == \"complete\") {\n",
       "        attempts++;\n",
       "        if (attempts > 200) {\n",
       "          clearInterval(timer);\n",
       "          console.log(\"Bokeh: ERROR: Unable to run BokehJS code because BokehJS library is missing\");\n",
       "        }\n",
       "      }\n",
       "    }, 25, root)\n",
       "  }\n",
       "})(window);</script>"
      ],
      "text/plain": [
       ":Bars   [id,variable]   (value)"
      ]
     },
     "execution_count": 107,
     "metadata": {
      "application/vnd.holoviews_exec.v0+json": {
       "id": "3710"
      }
     },
     "output_type": "execute_result"
    }
   ],
   "source": [
    "import hvplot.pandas\n",
    "\n",
    "woods = df.groupby('wood_type').sum()\n",
    "woods['id'] = woods.index\n",
    "woods = woods.drop(woods.index[0])\n",
    "woods_long_format = pd.melt(woods, id_vars=['id'], value_vars=['crafted', 'mined', 'picked_up', 'used'])\n",
    "woods_long_format.hvplot.bar('id', 'value', \n",
    "                             by='variable', \n",
    "                             legend='top_left', \n",
    "                             height=500, \n",
    "                             width=1000,\n",
    "                             ylabel='Total',\n",
    "                             xlabel='Wood Type Statistics',\n",
    "                             rot=60, \n",
    "                             title='Wood Type Summary Statistics for all Saved Worlds')"
   ]
  },
  {
   "cell_type": "code",
   "execution_count": null,
   "id": "d01fd751-d50a-4f5b-97e2-571bfd0ba225",
   "metadata": {},
   "outputs": [],
   "source": []
  }
 ],
 "metadata": {
  "kernelspec": {
   "display_name": "Python 3",
   "language": "python",
   "name": "python3"
  },
  "language_info": {
   "codemirror_mode": {
    "name": "ipython",
    "version": 3
   },
   "file_extension": ".py",
   "mimetype": "text/x-python",
   "name": "python",
   "nbconvert_exporter": "python",
   "pygments_lexer": "ipython3",
   "version": "3.9.2"
  }
 },
 "nbformat": 4,
 "nbformat_minor": 5
}
